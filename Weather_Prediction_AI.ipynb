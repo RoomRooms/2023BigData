{
  "nbformat": 4,
  "nbformat_minor": 0,
  "metadata": {
    "colab": {
      "private_outputs": true,
      "provenance": [],
      "gpuType": "T4",
      "authorship_tag": "ABX9TyP9n5qOclkssPrFEDizSLkt",
      "include_colab_link": true
    },
    "kernelspec": {
      "name": "python3",
      "display_name": "Python 3"
    },
    "language_info": {
      "name": "python"
    },
    "accelerator": "GPU"
  },
  "cells": [
    {
      "cell_type": "markdown",
      "metadata": {
        "id": "view-in-github",
        "colab_type": "text"
      },
      "source": [
        "<a href=\"https://colab.research.google.com/github/RoomRooms/2023BigData/blob/main/Weather_Prediction_AI.ipynb\" target=\"_parent\"><img src=\"https://colab.research.google.com/assets/colab-badge.svg\" alt=\"Open In Colab\"/></a>"
      ]
    },
    {
      "cell_type": "code",
      "execution_count": null,
      "metadata": {
        "id": "IjvVjUz0R8Le"
      },
      "outputs": [],
      "source": [
        "import numpy as np\n",
        "import pandas as pd\n",
        "import datetime\n",
        "import matplotlib.pyplot as plt\n",
        "import tensorflow as tf"
      ]
    },
    {
      "cell_type": "code",
      "source": [
        "def data_standardization(x):\n",
        "    x_np = np.asarray(x)\n",
        "    return (x_np - x_np.mean()) / x_np.std()\n",
        "\n",
        "def min_max_scaling(x):\n",
        "    x_np = np.asarray(x)\n",
        "    return (x_np - x_np.min()) / (x_np.max() - x_np.min() + 1e-7)\n",
        "\n",
        "def reverse_min_max_scaling(org_x, x):\n",
        "    org_x_np = np.asarray(org_x)\n",
        "    x_np = np.asarray(x)\n",
        "    return (x_np * (org_x_np.max() - org_x_np.min() + 1e-7)) + org_x_np.min()"
      ],
      "metadata": {
        "id": "sg2uX_o1aLlo"
      },
      "execution_count": null,
      "outputs": []
    },
    {
      "cell_type": "code",
      "source": [
        "input_data_column_cnt = 9\n",
        "output_data_column_cnt = 7\n",
        "\n",
        "seq_length = 24\n",
        "rnn_cell_hidden_dim = 20\n",
        "forget_bias = 1.0\n",
        "num_stacked_layers = 1\n",
        "keep_prob = 1.0\n",
        "\n",
        "epoch_num = 1000\n",
        "learning_rate = 0.01"
      ],
      "metadata": {
        "id": "z9RZ7lwxeqnh"
      },
      "execution_count": null,
      "outputs": []
    },
    {
      "cell_type": "code",
      "source": [
        "stock_file_name = 'GTS_SYNOP_TIM_20240325163952.csv'\n",
        "encoding = 'EUC-KR'\n",
        "names = ['Point','Name','Timestamp', 'Humidity', 'Wind speed', 'Precipitation', 'Temperature', 'High Temp', 'Low Temp']\n",
        "raw_dataframe = pd.read_csv(stock_file_name, names=names, encoding=encoding)\n",
        "raw_dataframe.info()"
      ],
      "metadata": {
        "id": "1LEnnwABlD0Z"
      },
      "execution_count": null,
      "outputs": []
    },
    {
      "cell_type": "code",
      "source": [
        "del raw_dataframe['Point']\n",
        "raw_dataframe.head()"
      ],
      "metadata": {
        "id": "dxssQ2B2og6O"
      },
      "execution_count": null,
      "outputs": []
    },
    {
      "cell_type": "code",
      "source": [
        "raw_dataframe.drop(0, axis=0, inplace=True)"
      ],
      "metadata": {
        "id": "Fohu7LyuoFCG"
      },
      "execution_count": null,
      "outputs": []
    },
    {
      "cell_type": "code",
      "source": [
        "raw_dataframe.head()"
      ],
      "metadata": {
        "id": "EhGvMzQnp3Zp"
      },
      "execution_count": null,
      "outputs": []
    },
    {
      "cell_type": "code",
      "source": [
        "del raw_dataframe['Name']\n",
        "raw_dataframe.head()"
      ],
      "metadata": {
        "id": "MHQu1SArp6y0"
      },
      "execution_count": null,
      "outputs": []
    }
  ]
}